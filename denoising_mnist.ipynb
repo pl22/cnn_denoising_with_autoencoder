{
 "cells": [
  {
   "cell_type": "code",
   "execution_count": 1,
   "id": "1c4d6f59",
   "metadata": {},
   "outputs": [],
   "source": [
    "import numpy \n",
    "import matplotlib.pyplot as plt\n",
    "import tensorflow as tf"
   ]
  },
  {
   "cell_type": "code",
   "execution_count": 2,
   "id": "5ad593e5",
   "metadata": {},
   "outputs": [
    {
     "name": "stdout",
     "output_type": "stream",
     "text": [
      "Downloading data from https://storage.googleapis.com/tensorflow/tf-keras-datasets/mnist.npz\n",
      "11490434/11490434 [==============================] - 2s 0us/step\n"
     ]
    }
   ],
   "source": [
    "# Load mnist dataset\n",
    "(x_train, y_train), (x_test, y_test) = tf.keras.datasets.mnist.load_data()"
   ]
  },
  {
   "cell_type": "code",
   "execution_count": 3,
   "id": "b33dae15",
   "metadata": {},
   "outputs": [
    {
     "data": {
      "text/plain": [
       "(60000, 10000)"
      ]
     },
     "execution_count": 3,
     "metadata": {},
     "output_type": "execute_result"
    }
   ],
   "source": [
    "# total images (train, test)\n",
    "len(x_train), len(x_test)"
   ]
  },
  {
   "cell_type": "code",
   "execution_count": 43,
   "id": "c543b453",
   "metadata": {},
   "outputs": [
    {
     "data": {
      "image/png": "[encoded data removed]",
      "text/plain": [
       "<Figure size 640x480 with 4 Axes>"
      ]
     },
     "metadata": {},
     "output_type": "display_data"
    }
   ],
   "source": [
    "# Plot few images\n",
    "fig, ax = plt.subplots(1, 4)\n",
    "\n",
    "plt.subplot(1,4,1)\n",
    "plt.title(y_train[600])\n",
    "plt.imshow(x_train[600], cmap=plt.get_cmap('gray'))\n",
    "\n",
    "plt.subplot(1,4,2)\n",
    "plt.title(y_train[601])\n",
    "plt.imshow(x_train[601], cmap=plt.get_cmap('gray'))\n",
    "\n",
    "plt.subplot(1,4,3)\n",
    "plt.imshow(x_test[600], cmap=plt.get_cmap('gray'))\n",
    "plt.title(y_test[600])\n",
    "\n",
    "plt.subplot(1,4,4)\n",
    "plt.imshow(x_test[601], cmap=plt.get_cmap('gray'))\n",
    "plt.title(y_test[601])\n",
    "\n",
    "fig.tight_layout()\n",
    "plt.show()"
   ]
  },
  {
   "cell_type": "code",
   "execution_count": 19,
   "id": "904ced6f",
   "metadata": {},
   "outputs": [
    {
     "data": {
      "text/plain": [
       "(28, 28)"
      ]
     },
     "execution_count": 19,
     "metadata": {},
     "output_type": "execute_result"
    }
   ],
   "source": [
    "# shape of each image\n",
    "x_train[0].shape"
   ]
  },
  {
   "cell_type": "code",
   "execution_count": 20,
   "id": "3c98ef45",
   "metadata": {},
   "outputs": [
    {
     "data": {
      "text/plain": [
       "784"
      ]
     },
     "execution_count": 20,
     "metadata": {},
     "output_type": "execute_result"
    }
   ],
   "source": [
    "total_pixel_single_image = x_train[0].shape[0]*x_train[0].shape[1]\n",
    "total_pixel_single_image"
   ]
  },
  {
   "cell_type": "markdown",
   "id": "a23021c1",
   "metadata": {},
   "source": [
    "#### Add noise"
   ]
  },
  {
   "cell_type": "code",
   "execution_count": 22,
   "id": "3b0e985f",
   "metadata": {},
   "outputs": [],
   "source": [
    "noise_factor = 0.2\n",
    "x_train_noisy = x_train + noise_factor * numpy.random.normal(loc=0.0, scale=1.0, size=x_train[0].shape)\n",
    "x_test_noisy = x_test + noise_factor * numpy.random.normal(loc=0.0, scale=1.0, size=x_test[0].shape)\n",
    "x_train_noisy = numpy.clip(x_train_noisy, 0., 1.)\n",
    "x_test_noisy = numpy.clip(x_test_noisy, 0., 1.)"
   ]
  },
  {
   "cell_type": "code",
   "execution_count": 93,
   "id": "ec03039c",
   "metadata": {},
   "outputs": [],
   "source": [
    "x_train = x_train / 255.0\n",
    "x_test = x_test / 255.0\n",
    "# reduce images\n",
    "x_train_noisy = x_train_noisy / 255.0 \n",
    "x_test_noisy = x_test_noisy / 255.0 "
   ]
  },
  {
   "cell_type": "code",
   "execution_count": 94,
   "id": "d8906eb4",
   "metadata": {},
   "outputs": [
    {
     "data": {
      "image/png": "[encoded data removed]",
      "text/plain": [
       "<Figure size 640x480 with 4 Axes>"
      ]
     },
     "metadata": {},
     "output_type": "display_data"
    }
   ],
   "source": [
    "# Plot few images\n",
    "fig, ax = plt.subplots(1, 4)\n",
    "\n",
    "plt.subplot(1,4,1)\n",
    "plt.title(y_train[600])\n",
    "plt.imshow(x_train_noisy[600], cmap=plt.get_cmap('gray'))\n",
    "\n",
    "plt.subplot(1,4,2)\n",
    "plt.title(y_train[601])\n",
    "plt.imshow(x_train_noisy[601], cmap=plt.get_cmap('gray'))\n",
    "\n",
    "plt.subplot(1,4,3)\n",
    "plt.imshow(x_test_noisy[600], cmap=plt.get_cmap('gray'))\n",
    "plt.title(y_test[600])\n",
    "\n",
    "plt.subplot(1,4,4)\n",
    "plt.imshow(x_test_noisy[601], cmap=plt.get_cmap('gray'))\n",
    "plt.title(y_test[601])\n",
    "\n",
    "# fig.tight_layout()\n",
    "plt.show()"
   ]
  },
  {
   "cell_type": "markdown",
   "id": "1719a4c4",
   "metadata": {},
   "source": [
    "#### Model"
   ]
  },
  {
   "cell_type": "code",
   "execution_count": 101,
   "id": "d7a626a4",
   "metadata": {},
   "outputs": [],
   "source": [
    "# The encoder\n",
    "\n",
    "x = tf.keras.layers.Input(shape=(28, 28, 1))\n",
    "x_e = tf.keras.layers.Conv2D(16, (3, 3), activation='relu', padding='same')(x)\n",
    "x_e = tf.keras.layers.MaxPooling2D((2, 2), padding='same')(x_e)\n",
    "x_e = tf.keras.layers.BatchNormalization()(x_e)\n",
    "x_e = tf.keras.layers.Conv2D(32, (3, 3), activation='relu', padding='same')(x_e)\n",
    "x_e = tf.keras.layers.MaxPooling2D((2, 2), padding='same')(x_e)\n",
    "x_e = tf.keras.layers.BatchNormalization()(x_e)"
   ]
  },
  {
   "cell_type": "code",
   "execution_count": 102,
   "id": "756feb19",
   "metadata": {},
   "outputs": [],
   "source": [
    "# The decoder\n",
    "\n",
    "x_d = tf.keras.layers.Conv2D(16, (3, 3), activation='relu', padding='same')(x_e)\n",
    "x_d = tf.keras.layers.UpSampling2D((2, 2))(x_d)\n",
    "x_d = tf.keras.layers.Conv2D(32, (3, 3), activation='relu', padding='same')(x_d)\n",
    "x_d = tf.keras.layers.UpSampling2D((2, 2))(x_d)\n",
    "x_d = tf.keras.layers.Conv2D(1, (3, 3), activation='sigmoid', padding='same')(x_d)"
   ]
  },
  {
   "cell_type": "code",
   "execution_count": 103,
   "id": "ca210aef",
   "metadata": {},
   "outputs": [],
   "source": [
    "model = tf.keras.Model(x, x_d)\n",
    "model.compile(optimizer='adam', loss='mse')"
   ]
  },
  {
   "cell_type": "code",
   "execution_count": 104,
   "id": "f0825ac4",
   "metadata": {},
   "outputs": [
    {
     "name": "stdout",
     "output_type": "stream",
     "text": [
      "Model: \"model_11\"\n",
      "_________________________________________________________________\n",
      " Layer (type)                Output Shape              Param #   \n",
      "=================================================================\n",
      " input_11 (InputLayer)       [(None, 28, 28, 1)]       0         \n",
      "                                                                 \n",
      " conv2d_56 (Conv2D)          (None, 28, 28, 16)        160       \n",
      "                                                                 \n",
      " max_pooling2d_14 (MaxPoolin  (None, 14, 14, 16)       0         \n",
      " g2D)                                                            \n",
      "                                                                 \n",
      " batch_normalization_12 (Bat  (None, 14, 14, 16)       64        \n",
      " chNormalization)                                                \n",
      "                                                                 \n",
      " conv2d_57 (Conv2D)          (None, 14, 14, 32)        4640      \n",
      "                                                                 \n",
      " max_pooling2d_15 (MaxPoolin  (None, 7, 7, 32)         0         \n",
      " g2D)                                                            \n",
      "                                                                 \n",
      " batch_normalization_13 (Bat  (None, 7, 7, 32)         128       \n",
      " chNormalization)                                                \n",
      "                                                                 \n",
      " conv2d_58 (Conv2D)          (None, 7, 7, 16)          4624      \n",
      "                                                                 \n",
      " up_sampling2d_22 (UpSamplin  (None, 14, 14, 16)       0         \n",
      " g2D)                                                            \n",
      "                                                                 \n",
      " conv2d_59 (Conv2D)          (None, 14, 14, 32)        4640      \n",
      "                                                                 \n",
      " up_sampling2d_23 (UpSamplin  (None, 28, 28, 32)       0         \n",
      " g2D)                                                            \n",
      "                                                                 \n",
      " conv2d_60 (Conv2D)          (None, 28, 28, 1)         289       \n",
      "                                                                 \n",
      "=================================================================\n",
      "Total params: 14,545\n",
      "Trainable params: 14,449\n",
      "Non-trainable params: 96\n",
      "_________________________________________________________________\n"
     ]
    }
   ],
   "source": [
    "model.summary()"
   ]
  },
  {
   "cell_type": "code",
   "execution_count": 105,
   "id": "0d02e31f",
   "metadata": {},
   "outputs": [
    {
     "name": "stdout",
     "output_type": "stream",
     "text": [
      "Epoch 1/10\n"
     ]
    },
    {
     "name": "stderr",
     "output_type": "stream",
     "text": [
      "2022-12-10 01:34:45.015798: I tensorflow/core/grappler/optimizers/custom_graph_optimizer_registry.cc:114] Plugin optimizer for device_type GPU is enabled.\n"
     ]
    },
    {
     "name": "stdout",
     "output_type": "stream",
     "text": [
      "3746/3750 [============================>.] - ETA: 0s - loss: 0.0093"
     ]
    },
    {
     "name": "stderr",
     "output_type": "stream",
     "text": [
      "2022-12-10 01:35:21.590867: I tensorflow/core/grappler/optimizers/custom_graph_optimizer_registry.cc:114] Plugin optimizer for device_type GPU is enabled.\n"
     ]
    },
    {
     "name": "stdout",
     "output_type": "stream",
     "text": [
      "3750/3750 [==============================] - 40s 10ms/step - loss: 0.0093 - val_loss: 0.0073\n",
      "Epoch 2/10\n",
      "3750/3750 [==============================] - 39s 10ms/step - loss: 0.0068 - val_loss: 0.0067\n",
      "Epoch 3/10\n",
      "3750/3750 [==============================] - 39s 10ms/step - loss: 0.0065 - val_loss: 0.0073\n",
      "Epoch 4/10\n",
      "3750/3750 [==============================] - 39s 10ms/step - loss: 0.0063 - val_loss: 0.0064\n",
      "Epoch 5/10\n",
      "3750/3750 [==============================] - 39s 10ms/step - loss: 0.0062 - val_loss: 0.0074\n",
      "Epoch 6/10\n",
      "3750/3750 [==============================] - 39s 10ms/step - loss: 0.0061 - val_loss: 0.0356\n",
      "Epoch 7/10\n",
      "3750/3750 [==============================] - 39s 10ms/step - loss: 0.0061 - val_loss: 0.1139\n",
      "Epoch 8/10\n",
      "3750/3750 [==============================] - 38s 10ms/step - loss: 0.0061 - val_loss: 0.0541\n",
      "Epoch 9/10\n",
      "3750/3750 [==============================] - 40s 11ms/step - loss: 0.0060 - val_loss: 0.1098\n",
      "Epoch 10/10\n",
      "3750/3750 [==============================] - 40s 11ms/step - loss: 0.0060 - val_loss: 0.0158\n"
     ]
    }
   ],
   "source": [
    "early_stop = tf.keras.callbacks.EarlyStopping(monitor='loss', patience=3)\n",
    "history = model.fit(x_train_noisy, x_train, validation_data=(x_test_noisy, x_test), epochs=10, batch_size=16, callbacks=[early_stop])"
   ]
  },
  {
   "cell_type": "code",
   "execution_count": 106,
   "id": "ad19a621",
   "metadata": {},
   "outputs": [
    {
     "name": "stderr",
     "output_type": "stream",
     "text": [
      "2022-12-10 01:49:05.934985: I tensorflow/core/grappler/optimizers/custom_graph_optimizer_registry.cc:114] Plugin optimizer for device_type GPU is enabled.\n"
     ]
    },
    {
     "name": "stdout",
     "output_type": "stream",
     "text": [
      "313/313 [==============================] - 2s 5ms/step\n",
      " 14/313 [>.............................] - ETA: 2s - loss: 0.0542"
     ]
    },
    {
     "name": "stderr",
     "output_type": "stream",
     "text": [
      "2022-12-10 01:49:07.991582: I tensorflow/core/grappler/optimizers/custom_graph_optimizer_registry.cc:114] Plugin optimizer for device_type GPU is enabled.\n"
     ]
    },
    {
     "name": "stdout",
     "output_type": "stream",
     "text": [
      "313/313 [==============================] - 2s 6ms/step - loss: 0.0549\n"
     ]
    },
    {
     "data": {
      "text/plain": [
       "0.05490448325872421"
      ]
     },
     "execution_count": 106,
     "metadata": {},
     "output_type": "execute_result"
    }
   ],
   "source": [
    "result = model.predict(x_test_noisy)\n",
    "model.evaluate(x_test, x_test_noisy)"
   ]
  },
  {
   "cell_type": "code",
   "execution_count": 107,
   "id": "a0310c1b",
   "metadata": {},
   "outputs": [
    {
     "name": "stdout",
     "output_type": "stream",
     "text": [
      "313/313 [==============================] - 2s 5ms/step\n"
     ]
    }
   ],
   "source": [
    "pred = model.predict(x_test_noisy)"
   ]
  },
  {
   "cell_type": "code",
   "execution_count": 109,
   "id": "3933a629",
   "metadata": {},
   "outputs": [
    {
     "name": "stdout",
     "output_type": "stream",
     "text": [
      "Test Images\n"
     ]
    },
    {
     "data": {
      "image/png": "[encoded data removed]",
      "text/plain": [
       "<Figure size 2000x400 with 10 Axes>"
      ]
     },
     "metadata": {},
     "output_type": "display_data"
    },
    {
     "name": "stdout",
     "output_type": "stream",
     "text": [
      "Test Images with Noise\n"
     ]
    },
    {
     "data": {
      "image/png": "[encoded data removed]",
      "text/plain": [
       "<Figure size 2000x400 with 10 Axes>"
      ]
     },
     "metadata": {},
     "output_type": "display_data"
    },
    {
     "name": "stdout",
     "output_type": "stream",
     "text": [
      "Reconstruction of Noisy Test Images\n"
     ]
    },
    {
     "data": {
      "image/png": "[encoded data removed]",
      "text/plain": [
       "<Figure size 2000x400 with 10 Axes>"
      ]
     },
     "metadata": {},
     "output_type": "display_data"
    }
   ],
   "source": [
    "pred = numpy.reshape(pred, (10000,28,28)) *255\n",
    "x_test_noisy = numpy.reshape(x_test_noisy, (-1,28,28)) *255\n",
    "plt.figure(figsize=(20, 4))\n",
    "print(\"Test Images\")\n",
    "for i in range(10,20,1):\n",
    "    plt.subplot(2, 10, i+1)\n",
    "    plt.imshow(x_test[i,:,:], cmap='gray')\n",
    "    curr_lbl = y_test[i]\n",
    "    plt.title(\"(Label: \" + str(curr_lbl) + \")\")\n",
    "plt.show()    \n",
    "plt.figure(figsize=(20, 4))\n",
    "print(\"Test Images with Noise\")\n",
    "for i in range(10,20,1):\n",
    "    plt.subplot(2, 10, i+1)\n",
    "    plt.imshow(x_test_noisy[i,:,:], cmap='gray')\n",
    "plt.show()    \n",
    "plt.figure(figsize=(20, 4))\n",
    "print(\"Reconstruction of Noisy Test Images\")\n",
    "for i in range(10,20,1):\n",
    "    plt.subplot(2, 10, i+1)\n",
    "    plt.imshow(pred[i,:,:], cmap='gray')  \n",
    "plt.show()"
   ]
  },
  {
   "cell_type": "code",
   "execution_count": null,
   "id": "f5463e0e",
   "metadata": {},
   "outputs": [],
   "source": []
  }
 ],
 "metadata": {
  "kernelspec": {
   "display_name": "Python 3 (ipykernel)",
   "language": "python",
   "name": "python3"
  },
  "language_info": {
   "codemirror_mode": {
    "name": "ipython",
    "version": 3
   },
   "file_extension": ".py",
   "mimetype": "text/x-python",
   "name": "python",
   "nbconvert_exporter": "python",
   "pygments_lexer": "ipython3",
   "version": "3.9.15"
  }
 },
 "nbformat": 4,
 "nbformat_minor": 5
}
